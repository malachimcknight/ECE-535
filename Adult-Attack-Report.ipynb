{
 "cells": [
  {
   "cell_type": "code",
   "execution_count": 1,
   "metadata": {},
   "outputs": [],
   "source": [
    "import os\n",
    "import random\n",
    "from random import shuffle\n",
    "import matplotlib.pyplot as plt\n",
    "import numpy as np\n",
    "import pandas as pd\n",
    "import torch\n",
    "from fedlab.contrib.dataset.adult import Adult\n",
    "from fedlab.utils.dataset.partition import AdultPartitioner\n",
    "from torch.utils.data import DataLoader, Subset"
   ]
  },
  {
   "cell_type": "code",
   "execution_count": 2,
   "metadata": {},
   "outputs": [
    {
     "name": "stdout",
     "output_type": "stream",
     "text": [
      "mps is available\n"
     ]
    }
   ],
   "source": [
    "if torch.cuda.is_available():\n",
    "    device = \"cuda\"\n",
    "elif torch.backends.mps.is_available():\n",
    "    device = \"mps\"\n",
    "else:\n",
    "    device = \"cpu\"\n",
    "print(f'{device} is available')"
   ]
  },
  {
   "cell_type": "code",
   "execution_count": 3,
   "metadata": {},
   "outputs": [],
   "source": [
    "# Define TabularTransform class for data preprocessing\n",
    "class TabularTransform:\n",
    "    def __init__(self, noise_std=0.01, feature_scaling=True):\n",
    "        self.noise_std = noise_std\n",
    "        self.feature_scaling = feature_scaling\n",
    "\n",
    "    def __call__(self, features):\n",
    "        # Adding random noise to the features\n",
    "        features = features + np.random.normal(0, self.noise_std, size=features.shape)\n",
    "        \n",
    "        # Scaling features to [0, 1] range\n",
    "        if self.feature_scaling:\n",
    "            features = (features - features.min(axis=0)) / (\n",
    "                features.max(axis=0) - features.min(axis=0) + 1e-8\n",
    "            )\n",
    "\n",
    "        return features"
   ]
  },
  {
   "cell_type": "code",
   "execution_count": 4,
   "metadata": {},
   "outputs": [],
   "source": [
    "class TransformedAdult(Adult):\n",
    "    def __init__(self, root, train=False, download=True, transform=None):\n",
    "        super().__init__(root, train, download)\n",
    "        self.transform = transform\n",
    "\n",
    "    def __getitem__(self, index):\n",
    "        # Get the features and target label for the given index\n",
    "        features, target = self.data[index], self.targets[index]\n",
    "        \n",
    "        # Apply transformation if provided\n",
    "        if self.transform:\n",
    "            features = self.transform(features)\n",
    "\n",
    "        # Return transformed features and target\n",
    "        return torch.tensor(features, dtype=torch.float32), torch.tensor(\n",
    "            target, dtype=torch.int64\n",
    "        )"
   ]
  },
  {
   "cell_type": "code",
   "execution_count": 5,
   "metadata": {},
   "outputs": [
    {
     "name": "stdout",
     "output_type": "stream",
     "text": [
      "Local file path_to_data/adult-a9a/a9a loaded.\n",
      "Local file path_to_data/adult-a9a/a9a.t loaded.\n"
     ]
    }
   ],
   "source": [
    "# Dataset and Partitioner\n",
    "transform = TabularTransform(noise_std=0.05, feature_scaling=True)\n",
    "\n",
    "dataset_path = os.path.join(\"path_to_data\", \"adult-a9a\")\n",
    "trainset = TransformedAdult(\n",
    "    dataset_path, train=True, download=True, transform=transform\n",
    ")\n",
    "testset = TransformedAdult(\n",
    "    dataset_path, train=False, download=True, transform=transform\n",
    ")"
   ]
  },
  {
   "cell_type": "code",
   "execution_count": 6,
   "metadata": {},
   "outputs": [],
   "source": [
    "# Parameters\n",
    "num_clients = 35\n",
    "seed = 2021\n",
    "alpha_values = [0.1, 0.3, 1.0, 5.0, 10.0]\n",
    "\n",
    "# Generate partitions\n",
    "partitions = {}\n",
    "for alpha in alpha_values:\n",
    "    partitions[f\"Dirichlet_alpha_{alpha}\"] = AdultPartitioner(\n",
    "        trainset.targets,\n",
    "        num_clients=num_clients,\n",
    "        partition=\"noniid-labeldir\",\n",
    "        dir_alpha=alpha,\n",
    "        seed=seed,\n",
    "    )"
   ]
  },
  {
   "cell_type": "code",
   "execution_count": 7,
   "metadata": {},
   "outputs": [],
   "source": [
    "class SimpleMLP(torch.nn.Module):\n",
    "    def __init__(self):\n",
    "        super(SimpleMLP, self).__init__()\n",
    "        self.fc1 = torch.nn.Linear(123, 64)  # 123 features in Adult dataset\n",
    "        self.fc2 = torch.nn.Linear(64, 32)\n",
    "        self.fc3 = torch.nn.Linear(32, 2)  # 2 classes (income >50K or <=50K)\n",
    "\n",
    "    def forward(self, x):\n",
    "        x = torch.relu(self.fc1(x))\n",
    "        x = torch.relu(self.fc2(x))\n",
    "        x = self.fc3(x)\n",
    "        return x"
   ]
  },
  {
   "cell_type": "code",
   "execution_count": 8,
   "metadata": {},
   "outputs": [],
   "source": [
    "def train_on_worker(model, dataloader, device=\"cpu\"):\n",
    "    model.to(device)\n",
    "    optimizer = torch.optim.SGD(model.parameters(), lr=0.01)\n",
    "    criterion = torch.nn.CrossEntropyLoss()\n",
    "    \n",
    "    model.train()\n",
    "    for images, labels in dataloader:\n",
    "        images, labels = images.to(device), labels.to(device)\n",
    "        \n",
    "        optimizer.zero_grad()\n",
    "        outputs = model(images)\n",
    "        \n",
    "        # Ensure the output and labels batch sizes match\n",
    "        assert outputs.size(0) == labels.size(0), f\"Output batch size mismatch: {outputs.size(0)} vs {labels.size(0)}\"\n",
    "        \n",
    "        loss = criterion(outputs, labels)\n",
    "        loss.backward()\n",
    "        optimizer.step()\n",
    "\n",
    "    return {k: v.clone() for k, v in model.state_dict().items()}"
   ]
  },
  {
   "cell_type": "code",
   "execution_count": 9,
   "metadata": {},
   "outputs": [],
   "source": [
    "def aggregate_updates(updates):\n",
    "    \"\"\"\n",
    "    Averages updates for global aggregation.\n",
    "    \"\"\"\n",
    "    return {k: torch.mean(torch.stack([u[k] for u in updates]), dim=0) for k in updates[0]}\n",
    "\n",
    "def full_trim(update, fraction):\n",
    "    \"\"\"\n",
    "    Applies a full-trim attack to a model update.\n",
    "    \"\"\"\n",
    "    for key, param in update.items():\n",
    "        k = int(param.numel() * fraction)\n",
    "        flat = param.view(-1)\n",
    "        flat[torch.topk(flat.abs(), k=k, largest=False).indices] = 0\n",
    "        param.copy_(flat.view_as(param))\n",
    "    return update"
   ]
  },
  {
   "cell_type": "code",
   "execution_count": 10,
   "metadata": {},
   "outputs": [],
   "source": [
    "def evaluate_model(model, test_loader, device):\n",
    "    model.eval()  # Set model to evaluation mode\n",
    "    correct = 0\n",
    "    total = 0\n",
    "    with torch.no_grad():\n",
    "        for inputs, targets in test_loader:\n",
    "            inputs, targets = inputs.to(device), targets.to(device)\n",
    "            outputs = model(inputs)\n",
    "            _, predicted = torch.max(outputs, 1)\n",
    "            total += targets.size(0)\n",
    "            correct += (predicted == targets).sum().item()\n",
    "\n",
    "    accuracy = 100 * correct / total\n",
    "    return accuracy"
   ]
  },
  {
   "cell_type": "code",
   "execution_count": 11,
   "metadata": {},
   "outputs": [
    {
     "name": "stdout",
     "output_type": "stream",
     "text": [
      "Running simulations for alpha = 0.1...\n",
      "  Running mode: No Attack\n",
      "    Accuracy: 83.6128\n",
      "  Running mode: Attack\n",
      "    Accuracy: 83.8278\n",
      "Running simulations for alpha = 0.3...\n",
      "  Running mode: No Attack\n",
      "    Accuracy: 84.3867\n",
      "  Running mode: Attack\n",
      "    Accuracy: 84.3929\n",
      "Running simulations for alpha = 1.0...\n",
      "  Running mode: No Attack\n",
      "    Accuracy: 84.8719\n",
      "  Running mode: Attack\n",
      "    Accuracy: 84.8044\n",
      "Running simulations for alpha = 5.0...\n",
      "  Running mode: No Attack\n",
      "    Accuracy: 84.9211\n",
      "  Running mode: Attack\n",
      "    Accuracy: 85.0623\n",
      "Running simulations for alpha = 10.0...\n",
      "  Running mode: No Attack\n",
      "    Accuracy: 84.8351\n",
      "  Running mode: Attack\n",
      "    Accuracy: 85.0501\n"
     ]
    }
   ],
   "source": [
    "# Running simulations\n",
    "attack_fraction = 0.4\n",
    "results = []\n",
    "Epochs = 50\n",
    "\n",
    "for alpha in alpha_values:\n",
    "    print(f\"Running simulations for alpha = {alpha}...\")\n",
    "    \n",
    "    # Partition data\n",
    "    partitioner = partitions[f\"Dirichlet_alpha_{alpha}\"]\n",
    "    client_indices = partitioner.client_dict\n",
    "    \n",
    "    workers = {\n",
    "        i: DataLoader(Subset(trainset, indices), batch_size=32, shuffle=True, num_workers=0)\n",
    "        for i, indices in client_indices.items()\n",
    "    }\n",
    "    \n",
    "    test_loader = DataLoader(testset, batch_size=32, shuffle=False)\n",
    "    \n",
    "    normal_accuracies = []\n",
    "    attack_accuracies = []\n",
    "\n",
    "    # Simulate training with and without attack\n",
    "    for attack in [False, True]:\n",
    "        mode = \"Attack\" if attack else \"No Attack\"\n",
    "        print(f\"  Running mode: {mode}\")\n",
    "        \n",
    "        # Define your model (Simple MLP or other)\n",
    "        model = SimpleMLP()  # Use a simple MLP model for Adult dataset\n",
    "        \n",
    "        for _ in range(Epochs):\n",
    "            updates = []\n",
    "            for i, loader in workers.items():\n",
    "                local_update = train_on_worker(model, loader, device)\n",
    "                \n",
    "                # Simulate attack (e.g., by trimming)\n",
    "                if attack and random.random() < attack_fraction:\n",
    "                    local_update = full_trim(local_update, 0.6)\n",
    "                    \n",
    "                updates.append(local_update)\n",
    "\n",
    "            # Aggregate updates and update the model\n",
    "            aggregated_update = aggregate_updates(updates)\n",
    "            model.load_state_dict(aggregated_update)\n",
    "\n",
    "        # Evaluate accuracy\n",
    "        acc = evaluate_model(model, test_loader, device)\n",
    "        print(f\"    Accuracy: {acc:.4f}\")\n",
    "        if attack:\n",
    "            attack_accuracies.append(acc)\n",
    "        else:\n",
    "            normal_accuracies.append(acc)\n",
    "\n",
    "    alpha_value = alpha if isinstance(alpha, float) else alpha.split('_')[2]\n",
    "    results.append({\n",
    "        \"Alpha\": alpha_value,\n",
    "        \"Normal Accuracy\": np.mean(normal_accuracies),\n",
    "        \"Attack Accuracy\": np.mean(attack_accuracies),\n",
    "    })"
   ]
  },
  {
   "cell_type": "code",
   "execution_count": 12,
   "metadata": {},
   "outputs": [
    {
     "data": {
      "image/png": "[encoded data removed]",
      "text/plain": [
       "<Figure size 640x480 with 1 Axes>"
      ]
     },
     "metadata": {},
     "output_type": "display_data"
    }
   ],
   "source": [
    "results_df = pd.DataFrame(results)\n",
    "\n",
    "bar_width = 0.35\n",
    "alphas = results_df[\"Alpha\"].astype(str)\n",
    "positions = np.arange(len(alphas))\n",
    "\n",
    "plt.bar(positions - bar_width / 2, results_df[\"Normal Accuracy\"], bar_width, label=\"Non-Adversarial\", color='b')\n",
    "plt.bar(positions + bar_width / 2, results_df[\"Attack Accuracy\"], bar_width, label=\"Adversarial\", color='r')\n",
    "\n",
    "plt.xlabel(\"Dirichlet Alpha\")\n",
    "plt.ylabel(\"Accuracy\")\n",
    "plt.title(\"Adult Model Accuracy with Full-Knowledge Trim Attack\")\n",
    "plt.xticks(positions, alphas)\n",
    "plt.legend()\n",
    "\n",
    "plt.savefig(\"Adult_FKTA_Results.png\")\n",
    "plt.show()"
   ]
  }
 ],
 "metadata": {
  "kernelspec": {
   "display_name": "Python 3",
   "language": "python",
   "name": "python3"
  },
  "language_info": {
   "codemirror_mode": {
    "name": "ipython",
    "version": 3
   },
   "file_extension": ".py",
   "mimetype": "text/x-python",
   "name": "python",
   "nbconvert_exporter": "python",
   "pygments_lexer": "ipython3",
   "version": "3.11.10"
  }
 },
 "nbformat": 4,
 "nbformat_minor": 2
}
