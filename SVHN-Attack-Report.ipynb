{
 "cells": [
  {
   "cell_type": "code",
   "execution_count": 1,
   "metadata": {},
   "outputs": [],
   "source": [
    "import os\n",
    "import random\n",
    "import numpy as np\n",
    "import matplotlib.pyplot as plt\n",
    "import pandas as pd\n",
    "import torch\n",
    "import torchvision\n",
    "from torch.utils.data import DataLoader, Subset\n",
    "from torchvision import transforms\n",
    "from torchvision.datasets import SVHN\n",
    "from fedlab.utils.dataset.partition import SVHNPartitioner"
   ]
  },
  {
   "cell_type": "code",
   "execution_count": 2,
   "metadata": {},
   "outputs": [
    {
     "name": "stdout",
     "output_type": "stream",
     "text": [
      "mps is available\n"
     ]
    }
   ],
   "source": [
    "if torch.cuda.is_available():\n",
    "    device = \"cuda\"\n",
    "elif torch.backends.mps.is_available():\n",
    "    device = \"mps\"\n",
    "else:\n",
    "    device = \"cpu\"\n",
    "print(f'{device} is available')"
   ]
  },
  {
   "cell_type": "code",
   "execution_count": 3,
   "metadata": {},
   "outputs": [],
   "source": [
    "# Define transformations for SVHN dataset\n",
    "transform = transforms.Compose([\n",
    "    transforms.RandomHorizontalFlip(p=0.5),\n",
    "    transforms.RandomRotation(degrees=15),\n",
    "    transforms.ToTensor(),\n",
    "    transforms.Normalize(mean=[0.5, 0.5, 0.5], std=[0.5, 0.5, 0.5]),\n",
    "])"
   ]
  },
  {
   "cell_type": "code",
   "execution_count": 4,
   "metadata": {},
   "outputs": [
    {
     "name": "stdout",
     "output_type": "stream",
     "text": [
      "Using downloaded and verified file: path_to_data/train_32x32.mat\n",
      "Using downloaded and verified file: path_to_data/test_32x32.mat\n"
     ]
    }
   ],
   "source": [
    "# Load SVHN dataset\n",
    "dataset_path = \"path_to_data\"\n",
    "trainset = SVHN(root=dataset_path, split=\"train\", download=True, transform=transform)\n",
    "testset = SVHN(root=dataset_path, split=\"test\", download=True, transform=transform)"
   ]
  },
  {
   "cell_type": "code",
   "execution_count": 5,
   "metadata": {},
   "outputs": [],
   "source": [
    "def partition_data(dataset, num_clients, alpha):\n",
    "    \"\"\"\n",
    "    Partitions the dataset using Dirichlet distribution to simulate heterogeneity.\n",
    "    \"\"\"\n",
    "    targets = np.array(dataset.labels)\n",
    "    num_classes = len(np.unique(targets))\n",
    "    client_indices = {i: [] for i in range(num_clients)}\n",
    "\n",
    "    # Dirichlet distribution for each class\n",
    "    class_indices = [np.where(targets == i)[0] for i in range(num_classes)]\n",
    "    for c, indices in enumerate(class_indices):\n",
    "        np.random.shuffle(indices)\n",
    "        proportions = np.random.dirichlet([alpha] * num_clients)\n",
    "        proportions = (np.cumsum(proportions) * len(indices)).astype(int)[:-1]\n",
    "        split_indices = np.split(indices, proportions)\n",
    "        for i, split in enumerate(split_indices):\n",
    "            client_indices[i].extend(split)\n",
    "\n",
    "    return client_indices"
   ]
  },
  {
   "cell_type": "code",
   "execution_count": 6,
   "metadata": {},
   "outputs": [],
   "source": [
    "class SimpleCNN(torch.nn.Module):\n",
    "    def __init__(self):\n",
    "        super(SimpleCNN, self).__init__()\n",
    "        self.conv1 = torch.nn.Conv2d(3, 32, kernel_size=3, padding=1)\n",
    "        self.conv2 = torch.nn.Conv2d(32, 64, kernel_size=3, padding=1)\n",
    "        self.pool = torch.nn.MaxPool2d(2, 2)\n",
    "        self.fc1 = torch.nn.Linear(64 * 16 * 16, 128)\n",
    "        self.fc2 = torch.nn.Linear(128, 10)\n",
    "\n",
    "    def forward(self, x):\n",
    "        x = torch.nn.functional.relu(self.conv1(x))\n",
    "        x = self.pool(torch.nn.functional.relu(self.conv2(x)))\n",
    "        x = x.view(-1, 64 * 16 * 16)\n",
    "        x = torch.nn.functional.relu(self.fc1(x))\n",
    "        x = self.fc2(x)\n",
    "        return x"
   ]
  },
  {
   "cell_type": "code",
   "execution_count": 7,
   "metadata": {},
   "outputs": [],
   "source": [
    "def train_on_worker(model, dataloader, device=\"cpu\"):\n",
    "    \"\"\"\n",
    "    Trains a model on a worker's local data.\n",
    "    \"\"\"\n",
    "    model.to(device)\n",
    "    optimizer = torch.optim.SGD(model.parameters(), lr=0.01)\n",
    "    criterion = torch.nn.CrossEntropyLoss()\n",
    "\n",
    "    model.train()\n",
    "    for images, labels in dataloader:\n",
    "        images, labels = images.to(device), labels.to(device)\n",
    "        optimizer.zero_grad()\n",
    "        outputs = model(images)\n",
    "        loss = criterion(outputs, labels)\n",
    "        loss.backward()\n",
    "        optimizer.step()\n",
    "\n",
    "    # Return model parameters as updates\n",
    "    return {k: v.clone() for k, v in model.state_dict().items()}"
   ]
  },
  {
   "cell_type": "code",
   "execution_count": 8,
   "metadata": {},
   "outputs": [],
   "source": [
    "def aggregate_updates(updates):\n",
    "    \"\"\"\n",
    "    Averages updates for global aggregation.\n",
    "    \"\"\"\n",
    "    return {k: torch.mean(torch.stack([u[k] for u in updates]), dim=0) for k in updates[0]}\n",
    "\n",
    "def full_trim(update, fraction):\n",
    "    \"\"\"\n",
    "    Applies a full-trim attack to a model update.\n",
    "    \"\"\"\n",
    "    for key, param in update.items():\n",
    "        k = int(param.numel() * fraction)\n",
    "        flat = param.view(-1)\n",
    "        flat[torch.topk(flat.abs(), k=k, largest=False).indices] = 0\n",
    "        param.copy_(flat.view_as(param))\n",
    "    return update"
   ]
  },
  {
   "cell_type": "code",
   "execution_count": 9,
   "metadata": {},
   "outputs": [],
   "source": [
    "def evaluate_model(model, dataloader, device=\"cpu\"):\n",
    "    \"\"\"\n",
    "    Evaluates the model on the test set.\n",
    "    \"\"\"\n",
    "    model.to(device)\n",
    "    model.eval()\n",
    "\n",
    "    correct = 0\n",
    "    total = 0\n",
    "    with torch.no_grad():\n",
    "        for images, labels in dataloader:\n",
    "            images, labels = images.to(device), labels.to(device)\n",
    "            outputs = model(images)\n",
    "            _, predicted = torch.max(outputs, 1)\n",
    "            correct += (predicted == labels).sum().item()\n",
    "            total += labels.size(0)\n",
    "\n",
    "    accuracy = 100 * correct / total\n",
    "    return accuracy"
   ]
  },
  {
   "cell_type": "code",
   "execution_count": 10,
   "metadata": {},
   "outputs": [
    {
     "name": "stdout",
     "output_type": "stream",
     "text": [
      "Running simulations for alpha = 0.1...\n",
      "  Running mode: No Attack\n",
      "    Accuracy: 70.5439\n",
      "  Running mode: Attack\n",
      "    Accuracy: 18.8307\n",
      "Running simulations for alpha = 0.3...\n",
      "  Running mode: No Attack\n",
      "    Accuracy: 76.8362\n",
      "  Running mode: Attack\n",
      "    Accuracy: 72.8757\n",
      "Running simulations for alpha = 1.0...\n",
      "  Running mode: No Attack\n",
      "    Accuracy: 78.6494\n",
      "  Running mode: Attack\n",
      "    Accuracy: 77.2626\n",
      "Running simulations for alpha = 5.0...\n",
      "  Running mode: No Attack\n",
      "    Accuracy: 78.6109\n",
      "  Running mode: Attack\n",
      "    Accuracy: 77.8542\n",
      "Running simulations for alpha = 10.0...\n",
      "  Running mode: No Attack\n",
      "    Accuracy: 79.8171\n",
      "  Running mode: Attack\n",
      "    Accuracy: 77.9809\n"
     ]
    }
   ],
   "source": [
    "alphas = [0.1, 0.3, 1.0, 5.0, 10.0]\n",
    "num_clients = 100\n",
    "attack_fraction = 0.4\n",
    "results = []\n",
    "Epochs = 15\n",
    "\n",
    "for alpha in alphas:\n",
    "    print(f\"Running simulations for alpha = {alpha}...\")\n",
    "    client_indices = partition_data(trainset, num_clients, alpha)\n",
    "    workers = {\n",
    "        i: DataLoader(Subset(trainset, indices), batch_size=32, shuffle=True)\n",
    "        for i, indices in client_indices.items()\n",
    "    }\n",
    "    test_loader = DataLoader(testset, batch_size=32, shuffle=False)\n",
    "\n",
    "    normal_accuracies = []\n",
    "    attack_accuracies = []\n",
    "\n",
    "    for attack in [False, True]:\n",
    "        mode = \"Attack\" if attack else \"No Attack\"\n",
    "        print(f\"  Running mode: {mode}\")\n",
    "        model = SimpleCNN()\n",
    "        for _ in range(Epochs):\n",
    "            updates = []\n",
    "            for i, loader in workers.items():\n",
    "                local_update = train_on_worker(model, loader, device)\n",
    "                if attack and random.random() < attack_fraction:\n",
    "                    local_update = full_trim(local_update, 0.6)\n",
    "                updates.append(local_update)\n",
    "\n",
    "            aggregated_update = aggregate_updates(updates)\n",
    "            model.load_state_dict(aggregated_update)\n",
    "\n",
    "        acc = evaluate_model(model, test_loader, device)\n",
    "        print(f\"    Accuracy: {acc:.4f}\")\n",
    "        if attack:\n",
    "            attack_accuracies.append(acc)\n",
    "        else:\n",
    "            normal_accuracies.append(acc)\n",
    "\n",
    "    alpha_value = alpha if isinstance(alpha, float) else alpha.split('_')[2]\n",
    "    results.append({\n",
    "        \"Alpha\": alpha_value,\n",
    "        \"Normal Accuracy\": np.mean(normal_accuracies),\n",
    "        \"Attack Accuracy\": np.mean(attack_accuracies),\n",
    "    })"
   ]
  },
  {
   "cell_type": "code",
   "execution_count": 11,
   "metadata": {},
   "outputs": [
    {
     "data": {
      "image/png": "[encoded data removed]",
      "text/plain": [
       "<Figure size 640x480 with 1 Axes>"
      ]
     },
     "metadata": {},
     "output_type": "display_data"
    }
   ],
   "source": [
    "results_df = pd.DataFrame(results)\n",
    "\n",
    "# Create a bar width and positions\n",
    "bar_width = 0.35\n",
    "alphas = results_df[\"Alpha\"].astype(str)\n",
    "positions = np.arange(len(alphas))\n",
    "\n",
    "# Plot the bar graph\n",
    "plt.bar(positions - bar_width / 2, results_df[\"Normal Accuracy\"], bar_width, label=\"Non-Adversarial\", color='b')\n",
    "plt.bar(positions + bar_width / 2, results_df[\"Attack Accuracy\"], bar_width, label=\"Adversarial\", color='r')\n",
    "\n",
    "# Add labels and titles\n",
    "plt.xlabel(\"Dirichlet Alpha\")\n",
    "plt.ylabel(\"Accuracy\")\n",
    "plt.title(\"SVHN Model Accuracy with Full-Knowledge Trim Attack\")\n",
    "plt.xticks(positions, alphas)\n",
    "plt.legend()\n",
    "\n",
    "# Save and show the plot\n",
    "plt.savefig(\"SVHN_FKTA_Results.png\")\n",
    "plt.show()"
   ]
  }
 ],
 "metadata": {
  "kernelspec": {
   "display_name": "Python 3",
   "language": "python",
   "name": "python3"
  },
  "language_info": {
   "codemirror_mode": {
    "name": "ipython",
    "version": 3
   },
   "file_extension": ".py",
   "mimetype": "text/x-python",
   "name": "python",
   "nbconvert_exporter": "python",
   "pygments_lexer": "ipython3",
   "version": "3.11.10"
  }
 },
 "nbformat": 4,
 "nbformat_minor": 2
}
